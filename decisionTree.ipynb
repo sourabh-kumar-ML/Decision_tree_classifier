{
 "cells": [
  {
   "cell_type": "code",
   "execution_count": 19,
   "metadata": {},
   "outputs": [],
   "source": [
    "import numpy as np\n",
    "import pandas as pd\n",
    "from sklearn.tree import DecisionTreeClassifier"
   ]
  },
  {
   "cell_type": "code",
   "execution_count": 20,
   "metadata": {},
   "outputs": [],
   "source": [
    "# Reading data\n",
    "credit_df = pd.read_csv(\"copy.csv\")"
   ]
  },
  {
   "cell_type": "code",
   "execution_count": 21,
   "metadata": {},
   "outputs": [],
   "source": [
    "# Converting date to DateTime\n",
    "credit_df['Pstng Date'] = pd.to_datetime(credit_df['Pstng Date'])"
   ]
  },
  {
   "cell_type": "code",
   "execution_count": 22,
   "metadata": {},
   "outputs": [],
   "source": [
    "# Storing column names\n",
    "cols = credit_df.columns"
   ]
  },
  {
   "cell_type": "code",
   "execution_count": 23,
   "metadata": {},
   "outputs": [],
   "source": [
    "# making train and test data\n",
    "\n",
    "year = credit_df['Pstng Date'].dt.year.values\n",
    "idx_train = [i for i in range(len(year)) if year[i]<=2018]\n",
    "idx_test = [i for i in range(len(year)) if year[i]>=2018]"
   ]
  },
  {
   "cell_type": "code",
   "execution_count": 24,
   "metadata": {},
   "outputs": [],
   "source": [
    "train_data = credit_df.iloc[idx_train]\n",
    "test_data = credit_df.iloc[idx_test]"
   ]
  },
  {
   "cell_type": "code",
   "execution_count": 25,
   "metadata": {},
   "outputs": [
    {
     "data": {
      "text/html": [
       "<div>\n",
       "<style scoped>\n",
       "    .dataframe tbody tr th:only-of-type {\n",
       "        vertical-align: middle;\n",
       "    }\n",
       "\n",
       "    .dataframe tbody tr th {\n",
       "        vertical-align: top;\n",
       "    }\n",
       "\n",
       "    .dataframe thead th {\n",
       "        text-align: right;\n",
       "    }\n",
       "</style>\n",
       "<table border=\"1\" class=\"dataframe\">\n",
       "  <thead>\n",
       "    <tr style=\"text-align: right;\">\n",
       "      <th></th>\n",
       "      <th>Pstng Date</th>\n",
       "      <th>Year</th>\n",
       "      <th>Doc. Date</th>\n",
       "      <th>Concat</th>\n",
       "      <th>Material</th>\n",
       "      <th>Qty in UnE</th>\n",
       "      <th>Amount in LC</th>\n",
       "      <th>SLoc</th>\n",
       "      <th>Plnt</th>\n",
       "      <th>Vendor</th>\n",
       "      <th>MatYr</th>\n",
       "      <th>PO</th>\n",
       "      <th>City</th>\n",
       "      <th>Account Group</th>\n",
       "      <th>Location</th>\n",
       "      <th>Dependent</th>\n",
       "    </tr>\n",
       "  </thead>\n",
       "  <tbody>\n",
       "    <tr>\n",
       "      <th>102885</th>\n",
       "      <td>2018-08-31</td>\n",
       "      <td>2018</td>\n",
       "      <td>25.08.2018</td>\n",
       "      <td>1.000000e+14</td>\n",
       "      <td>100348501</td>\n",
       "      <td>50</td>\n",
       "      <td>7,410.50</td>\n",
       "      <td>P01</td>\n",
       "      <td>1020</td>\n",
       "      <td>100517</td>\n",
       "      <td>2018</td>\n",
       "      <td>2600009117</td>\n",
       "      <td>Coimbatore</td>\n",
       "      <td>B001</td>\n",
       "      <td>Domestic</td>\n",
       "      <td>1</td>\n",
       "    </tr>\n",
       "    <tr>\n",
       "      <th>102886</th>\n",
       "      <td>2018-07-12</td>\n",
       "      <td>2018</td>\n",
       "      <td>11.07.2018</td>\n",
       "      <td>1.080000e+14</td>\n",
       "      <td>108054411</td>\n",
       "      <td>30</td>\n",
       "      <td>2,362.44</td>\n",
       "      <td>V01</td>\n",
       "      <td>1020</td>\n",
       "      <td>180177</td>\n",
       "      <td>2018</td>\n",
       "      <td>2620000959</td>\n",
       "      <td>CHENNAI</td>\n",
       "      <td>B010</td>\n",
       "      <td>Domestic</td>\n",
       "      <td>1</td>\n",
       "    </tr>\n",
       "    <tr>\n",
       "      <th>102887</th>\n",
       "      <td>2018-07-18</td>\n",
       "      <td>2018</td>\n",
       "      <td>17.07.2018</td>\n",
       "      <td>1.010000e+14</td>\n",
       "      <td>100753440</td>\n",
       "      <td>2</td>\n",
       "      <td>2,323.60</td>\n",
       "      <td>D01</td>\n",
       "      <td>1020</td>\n",
       "      <td>180113</td>\n",
       "      <td>2018</td>\n",
       "      <td>2620000870</td>\n",
       "      <td>Chennai</td>\n",
       "      <td>B010</td>\n",
       "      <td>Domestic</td>\n",
       "      <td>1</td>\n",
       "    </tr>\n",
       "    <tr>\n",
       "      <th>102888</th>\n",
       "      <td>2018-10-24</td>\n",
       "      <td>2018</td>\n",
       "      <td>22.10.2018</td>\n",
       "      <td>1.010000e+14</td>\n",
       "      <td>100870160</td>\n",
       "      <td>50</td>\n",
       "      <td>1,453.50</td>\n",
       "      <td>A01</td>\n",
       "      <td>1020</td>\n",
       "      <td>100475</td>\n",
       "      <td>2018</td>\n",
       "      <td>2600007765</td>\n",
       "      <td>CHENNAI</td>\n",
       "      <td>B001</td>\n",
       "      <td>Domestic</td>\n",
       "      <td>1</td>\n",
       "    </tr>\n",
       "    <tr>\n",
       "      <th>102889</th>\n",
       "      <td>2018-08-24</td>\n",
       "      <td>2018</td>\n",
       "      <td>06.08.2018</td>\n",
       "      <td>1.000000e+14</td>\n",
       "      <td>100345681</td>\n",
       "      <td>100</td>\n",
       "      <td>8,101.00</td>\n",
       "      <td>P01</td>\n",
       "      <td>1020</td>\n",
       "      <td>100560</td>\n",
       "      <td>2018</td>\n",
       "      <td>2600007846</td>\n",
       "      <td>Coimbatore</td>\n",
       "      <td>B001</td>\n",
       "      <td>Domestic</td>\n",
       "      <td>1</td>\n",
       "    </tr>\n",
       "  </tbody>\n",
       "</table>\n",
       "</div>"
      ],
      "text/plain": [
       "       Pstng Date  Year   Doc. Date        Concat   Material     Qty in UnE  \\\n",
       "102885 2018-08-31  2018  25.08.2018  1.000000e+14  100348501             50   \n",
       "102886 2018-07-12  2018  11.07.2018  1.080000e+14  108054411             30   \n",
       "102887 2018-07-18  2018  17.07.2018  1.010000e+14  100753440              2   \n",
       "102888 2018-10-24  2018  22.10.2018  1.010000e+14  100870160             50   \n",
       "102889 2018-08-24  2018  06.08.2018  1.000000e+14  100345681            100   \n",
       "\n",
       "          Amount in LC SLoc  Plnt  Vendor  MatYr          PO        City  \\\n",
       "102885        7,410.50  P01  1020  100517   2018  2600009117  Coimbatore   \n",
       "102886        2,362.44  V01  1020  180177   2018  2620000959     CHENNAI   \n",
       "102887        2,323.60  D01  1020  180113   2018  2620000870     Chennai   \n",
       "102888        1,453.50  A01  1020  100475   2018  2600007765     CHENNAI   \n",
       "102889        8,101.00  P01  1020  100560   2018  2600007846  Coimbatore   \n",
       "\n",
       "       Account Group  Location  Dependent  \n",
       "102885          B001  Domestic          1  \n",
       "102886          B010  Domestic          1  \n",
       "102887          B010  Domestic          1  \n",
       "102888          B001  Domestic          1  \n",
       "102889          B001  Domestic          1  "
      ]
     },
     "execution_count": 25,
     "metadata": {},
     "output_type": "execute_result"
    }
   ],
   "source": [
    "train_data.tail()"
   ]
  },
  {
   "cell_type": "code",
   "execution_count": 26,
   "metadata": {},
   "outputs": [],
   "source": [
    "#Preprocessing the data before prediction\n",
    "\n",
    "def preprocess(data):\n",
    "    data = pd.DataFrame(data,columns = cols)\n",
    "    for feature in data.columns: \n",
    "        if data[feature].dtype == 'object': \n",
    "            data[feature] = pd.Categorical(data[feature]).codes\n",
    "\n",
    "\n",
    "    data = data.drop(\"Pstng Date\" , axis=1)\n",
    "    data = data.drop(\"Doc. Date\" , axis=1)\n",
    "    data = data.drop(\"Year\" , axis=1)\n",
    "    data = data.drop(\"PO\" , axis=1)\n",
    "    data = data.drop(\"Vendor\" , axis=1)\n",
    "    data = data.drop(\"MatYr\" , axis=1)\n",
    "    labels = data.Dependent\n",
    "    data.drop('Dependent',axis=1,inplace=True)\n",
    "    return data,labels"
   ]
  },
  {
   "cell_type": "code",
   "execution_count": 27,
   "metadata": {},
   "outputs": [],
   "source": [
    "#preprocessing train data\n",
    "train_data,labels = preprocess(train_data)\n",
    "test_data,test_labels = preprocess(test_data)"
   ]
  },
  {
   "cell_type": "code",
   "execution_count": 28,
   "metadata": {},
   "outputs": [
    {
     "data": {
      "text/html": [
       "<div>\n",
       "<style scoped>\n",
       "    .dataframe tbody tr th:only-of-type {\n",
       "        vertical-align: middle;\n",
       "    }\n",
       "\n",
       "    .dataframe tbody tr th {\n",
       "        vertical-align: top;\n",
       "    }\n",
       "\n",
       "    .dataframe thead th {\n",
       "        text-align: right;\n",
       "    }\n",
       "</style>\n",
       "<table border=\"1\" class=\"dataframe\">\n",
       "  <thead>\n",
       "    <tr style=\"text-align: right;\">\n",
       "      <th></th>\n",
       "      <th>Concat</th>\n",
       "      <th>Material</th>\n",
       "      <th>Qty in UnE</th>\n",
       "      <th>Amount in LC</th>\n",
       "      <th>SLoc</th>\n",
       "      <th>Plnt</th>\n",
       "      <th>City</th>\n",
       "      <th>Account Group</th>\n",
       "      <th>Location</th>\n",
       "    </tr>\n",
       "  </thead>\n",
       "  <tbody>\n",
       "    <tr>\n",
       "      <th>0</th>\n",
       "      <td>1.000000e+14</td>\n",
       "      <td>100136950</td>\n",
       "      <td>444</td>\n",
       "      <td>23968</td>\n",
       "      <td>3</td>\n",
       "      <td>1020</td>\n",
       "      <td>5</td>\n",
       "      <td>0</td>\n",
       "      <td>0</td>\n",
       "    </tr>\n",
       "    <tr>\n",
       "      <th>1</th>\n",
       "      <td>1.010000e+14</td>\n",
       "      <td>100632311</td>\n",
       "      <td>378</td>\n",
       "      <td>11590</td>\n",
       "      <td>13</td>\n",
       "      <td>1020</td>\n",
       "      <td>5</td>\n",
       "      <td>0</td>\n",
       "      <td>0</td>\n",
       "    </tr>\n",
       "    <tr>\n",
       "      <th>2</th>\n",
       "      <td>1.000000e+14</td>\n",
       "      <td>100279631</td>\n",
       "      <td>262</td>\n",
       "      <td>21114</td>\n",
       "      <td>0</td>\n",
       "      <td>1020</td>\n",
       "      <td>17</td>\n",
       "      <td>0</td>\n",
       "      <td>0</td>\n",
       "    </tr>\n",
       "    <tr>\n",
       "      <th>3</th>\n",
       "      <td>1.000000e+14</td>\n",
       "      <td>100277120</td>\n",
       "      <td>381</td>\n",
       "      <td>34805</td>\n",
       "      <td>0</td>\n",
       "      <td>1020</td>\n",
       "      <td>3</td>\n",
       "      <td>0</td>\n",
       "      <td>0</td>\n",
       "    </tr>\n",
       "    <tr>\n",
       "      <th>4</th>\n",
       "      <td>1.010000e+14</td>\n",
       "      <td>100630122</td>\n",
       "      <td>379</td>\n",
       "      <td>4687</td>\n",
       "      <td>9</td>\n",
       "      <td>1020</td>\n",
       "      <td>6</td>\n",
       "      <td>0</td>\n",
       "      <td>0</td>\n",
       "    </tr>\n",
       "  </tbody>\n",
       "</table>\n",
       "</div>"
      ],
      "text/plain": [
       "         Concat   Material      Qty in UnE     Amount in LC  SLoc  Plnt  City  \\\n",
       "0  1.000000e+14  100136950             444            23968     3  1020     5   \n",
       "1  1.010000e+14  100632311             378            11590    13  1020     5   \n",
       "2  1.000000e+14  100279631             262            21114     0  1020    17   \n",
       "3  1.000000e+14  100277120             381            34805     0  1020     3   \n",
       "4  1.010000e+14  100630122             379             4687     9  1020     6   \n",
       "\n",
       "   Account Group  Location  \n",
       "0              0         0  \n",
       "1              0         0  \n",
       "2              0         0  \n",
       "3              0         0  \n",
       "4              0         0  "
      ]
     },
     "execution_count": 28,
     "metadata": {},
     "output_type": "execute_result"
    }
   ],
   "source": [
    "train_data.head()"
   ]
  },
  {
   "cell_type": "code",
   "execution_count": 29,
   "metadata": {},
   "outputs": [],
   "source": [
    "dt_model = DecisionTreeClassifier(criterion = 'gini' )"
   ]
  },
  {
   "cell_type": "code",
   "execution_count": 30,
   "metadata": {},
   "outputs": [
    {
     "data": {
      "text/plain": [
       "DecisionTreeClassifier(class_weight=None, criterion='gini', max_depth=None,\n",
       "                       max_features=None, max_leaf_nodes=None,\n",
       "                       min_impurity_decrease=0.0, min_impurity_split=None,\n",
       "                       min_samples_leaf=1, min_samples_split=2,\n",
       "                       min_weight_fraction_leaf=0.0, presort=False,\n",
       "                       random_state=None, splitter='best')"
      ]
     },
     "execution_count": 30,
     "metadata": {},
     "output_type": "execute_result"
    }
   ],
   "source": [
    "dt_model.fit(train_data, labels)"
   ]
  },
  {
   "cell_type": "code",
   "execution_count": 31,
   "metadata": {},
   "outputs": [],
   "source": [
    "from sklearn import tree\n",
    "\n",
    "train_char_label = ['No', 'Yes']\n",
    "Credit_Tree_File = open('d:\\credit_tree.dot','w')\n",
    "dot_data = tree.export_graphviz(dt_model, out_file=Credit_Tree_File, feature_names = list(train_data), class_names = list(train_char_label))\n",
    "\n",
    "Credit_Tree_File.close()\n"
   ]
  },
  {
   "cell_type": "code",
   "execution_count": 32,
   "metadata": {},
   "outputs": [
    {
     "name": "stdout",
     "output_type": "stream",
     "text": [
      "                      Imp\n",
      "Concat           0.029830\n",
      "Material         0.180808\n",
      "    Qty in UnE   0.176513\n",
      "   Amount in LC  0.433331\n",
      "SLoc             0.024154\n",
      "Plnt             0.006240\n",
      "City             0.099717\n",
      "Account Group    0.049400\n",
      "Location         0.000006\n"
     ]
    }
   ],
   "source": [
    "# importance of features in the tree building ( The importance of a feature is computed as the \n",
    "#(normalized) total reduction of the criterion brought by that feature. It is also known as the Gini importance )\n",
    "\n",
    "print (pd.DataFrame(dt_model.feature_importances_, columns = [\"Imp\"], index = train_data.columns))\n"
   ]
  },
  {
   "cell_type": "code",
   "execution_count": 33,
   "metadata": {},
   "outputs": [],
   "source": [
    "y_predict = dt_model.predict(test_data)"
   ]
  },
  {
   "cell_type": "markdown",
   "metadata": {},
   "source": [
    "#                                      Regularising the Decision Tree"
   ]
  },
  {
   "cell_type": "code",
   "execution_count": 36,
   "metadata": {},
   "outputs": [
    {
     "data": {
      "text/plain": [
       "DecisionTreeClassifier(class_weight=None, criterion='gini', max_depth=10,\n",
       "                       max_features=None, max_leaf_nodes=None,\n",
       "                       min_impurity_decrease=0.0, min_impurity_split=None,\n",
       "                       min_samples_leaf=10, min_samples_split=30,\n",
       "                       min_weight_fraction_leaf=0.0, presort=False,\n",
       "                       random_state=None, splitter='best')"
      ]
     },
     "execution_count": 36,
     "metadata": {},
     "output_type": "execute_result"
    }
   ],
   "source": [
    "\n",
    "reg_dt_model = DecisionTreeClassifier(criterion = 'gini', max_depth = 10,min_samples_leaf=10,min_samples_split=30)\n",
    "reg_dt_model.fit(train_data, labels)"
   ]
  },
  {
   "cell_type": "code",
   "execution_count": 37,
   "metadata": {},
   "outputs": [
    {
     "name": "stdout",
     "output_type": "stream",
     "text": [
      "                      Imp\n",
      "Concat           0.029830\n",
      "Material         0.180808\n",
      "    Qty in UnE   0.176513\n",
      "   Amount in LC  0.433331\n",
      "SLoc             0.024154\n",
      "Plnt             0.006240\n",
      "City             0.099717\n",
      "Account Group    0.049400\n",
      "Location         0.000006\n"
     ]
    }
   ],
   "source": [
    "credit_tree_regularized = open('d:\\credit_tree_regularized.dot','w')\n",
    "dot_data = tree.export_graphviz(reg_dt_model, out_file= credit_tree_regularized , feature_names = list(train_data), class_names = list(train_char_label))\n",
    "\n",
    "credit_tree_regularized.close()\n",
    "\n",
    "print (pd.DataFrame(dt_model.feature_importances_, columns = [\"Imp\"], index = train_data.columns))\n"
   ]
  },
  {
   "cell_type": "code",
   "execution_count": 39,
   "metadata": {},
   "outputs": [],
   "source": [
    "ytrain_predict = reg_dt_model.predict(train_data)\n",
    "ytest_predict = reg_dt_model.predict(test_data)"
   ]
  },
  {
   "cell_type": "code",
   "execution_count": 40,
   "metadata": {},
   "outputs": [
    {
     "data": {
      "text/plain": [
       "array([0, 1, 1, ..., 1, 1, 1], dtype=int64)"
      ]
     },
     "execution_count": 40,
     "metadata": {},
     "output_type": "execute_result"
    }
   ],
   "source": [
    "ytrain_predict"
   ]
  },
  {
   "cell_type": "code",
   "execution_count": 41,
   "metadata": {},
   "outputs": [],
   "source": [
    "import matplotlib.pyplot as plt"
   ]
  },
  {
   "cell_type": "code",
   "execution_count": 44,
   "metadata": {},
   "outputs": [
    {
     "name": "stdout",
     "output_type": "stream",
     "text": [
      "AUC: 0.853\n"
     ]
    },
    {
     "data": {
      "image/png": "[encoded data removed]",
      "text/plain": [
       "<Figure size 432x288 with 1 Axes>"
      ]
     },
     "metadata": {
      "needs_background": "light"
     },
     "output_type": "display_data"
    }
   ],
   "source": [
    "# AUC and ROC for the training data\n",
    "\n",
    "# predict probabilities\n",
    "probs = reg_dt_model.predict_proba(train_data)\n",
    "# keep probabilities for the positive outcome only\n",
    "probs = probs[:, 1]\n",
    "# calculate AUC\n",
    "from sklearn.metrics import roc_auc_score\n",
    "auc = roc_auc_score(labels, probs)\n",
    "print('AUC: %.3f' % auc)\n",
    "# calculate roc curve\n",
    "from sklearn.metrics import roc_curve\n",
    "fpr, tpr, thresholds = roc_curve(labels, probs)\n",
    "plt.plot([0, 1], [0, 1], linestyle='--')\n",
    "# plot the roc curve for the model\n",
    "plt.plot(fpr, tpr, marker='.')\n",
    "# show the plot\n",
    "plt.show()"
   ]
  },
  {
   "cell_type": "code",
   "execution_count": 45,
   "metadata": {},
   "outputs": [
    {
     "name": "stdout",
     "output_type": "stream",
     "text": [
      "AUC: 0.549\n"
     ]
    },
    {
     "data": {
      "image/png": "[encoded data removed]",
      "text/plain": [
       "<Figure size 432x288 with 1 Axes>"
      ]
     },
     "metadata": {
      "needs_background": "light"
     },
     "output_type": "display_data"
    }
   ],
   "source": [
    "# AUC and ROC for the test data\n",
    "\n",
    "\n",
    "# predict probabilities\n",
    "probs = reg_dt_model.predict_proba(test_data)\n",
    "# keep probabilities for the positive outcome only\n",
    "probs = probs[:, 1]\n",
    "# calculate AUC\n",
    "from sklearn.metrics import roc_auc_score\n",
    "auc = roc_auc_score(test_labels, probs)\n",
    "print('AUC: %.3f' % auc)\n",
    "# calculate roc curve\n",
    "from sklearn.metrics import roc_curve\n",
    "fpr, tpr, thresholds = roc_curve(test_labels, probs)\n",
    "plt.plot([0, 1], [0, 1], linestyle='--')\n",
    "# plot the roc curve for the model\n",
    "plt.plot(fpr, tpr, marker='.')\n",
    "# show the plot\n",
    "plt.show()"
   ]
  },
  {
   "cell_type": "code",
   "execution_count": 46,
   "metadata": {},
   "outputs": [],
   "source": [
    "from sklearn.metrics import classification_report,confusion_matrix"
   ]
  },
  {
   "cell_type": "code",
   "execution_count": 48,
   "metadata": {},
   "outputs": [
    {
     "name": "stdout",
     "output_type": "stream",
     "text": [
      "              precision    recall  f1-score   support\n",
      "\n",
      "           0       0.72      0.67      0.69     39473\n",
      "           1       0.80      0.84      0.82     63417\n",
      "\n",
      "    accuracy                           0.77    102890\n",
      "   macro avg       0.76      0.75      0.76    102890\n",
      "weighted avg       0.77      0.77      0.77    102890\n",
      "\n"
     ]
    }
   ],
   "source": [
    "print(classification_report(labels, ytrain_predict))"
   ]
  },
  {
   "cell_type": "code",
   "execution_count": 49,
   "metadata": {},
   "outputs": [
    {
     "name": "stdout",
     "output_type": "stream",
     "text": [
      "              precision    recall  f1-score   support\n",
      "\n",
      "           0       0.35      0.55      0.42     21626\n",
      "           1       0.68      0.48      0.57     43376\n",
      "\n",
      "    accuracy                           0.51     65002\n",
      "   macro avg       0.51      0.52      0.49     65002\n",
      "weighted avg       0.57      0.51      0.52     65002\n",
      "\n"
     ]
    }
   ],
   "source": [
    "print(classification_report(test_labels, ytest_predict))"
   ]
  },
  {
   "cell_type": "code",
   "execution_count": 51,
   "metadata": {},
   "outputs": [
    {
     "data": {
      "text/plain": [
       "array([[26294, 13179],\n",
       "       [10241, 53176]], dtype=int64)"
      ]
     },
     "execution_count": 51,
     "metadata": {},
     "output_type": "execute_result"
    }
   ],
   "source": [
    "confusion_matrix(labels, ytrain_predict)"
   ]
  },
  {
   "cell_type": "code",
   "execution_count": 52,
   "metadata": {},
   "outputs": [
    {
     "data": {
      "text/plain": [
       "array([[11814,  9812],\n",
       "       [22362, 21014]], dtype=int64)"
      ]
     },
     "execution_count": 52,
     "metadata": {},
     "output_type": "execute_result"
    }
   ],
   "source": [
    "confusion_matrix(test_labels, ytest_predict)"
   ]
  },
  {
   "cell_type": "code",
   "execution_count": 55,
   "metadata": {},
   "outputs": [
    {
     "data": {
      "text/plain": [
       "0.7723782680532608"
      ]
     },
     "execution_count": 55,
     "metadata": {},
     "output_type": "execute_result"
    }
   ],
   "source": [
    "reg_dt_model.score(train_data,labels)"
   ]
  },
  {
   "cell_type": "code",
   "execution_count": 56,
   "metadata": {},
   "outputs": [
    {
     "data": {
      "text/plain": [
       "0.5050306144426325"
      ]
     },
     "execution_count": 56,
     "metadata": {},
     "output_type": "execute_result"
    }
   ],
   "source": [
    "reg_dt_model.score(test_data,test_labels)"
   ]
  },
  {
   "cell_type": "code",
   "execution_count": 58,
   "metadata": {},
   "outputs": [],
   "source": [
    "ytrain_predict = pd.DataFrame(ytrain_predict,columns=['Predicted_labels'])\n",
    "ytrain_predict['True_Labels'] = labels.values"
   ]
  },
  {
   "cell_type": "code",
   "execution_count": 59,
   "metadata": {},
   "outputs": [],
   "source": [
    "ytrain_predict.to_excel('train_prdicted.xlsx',index=None)"
   ]
  },
  {
   "cell_type": "code",
   "execution_count": 60,
   "metadata": {},
   "outputs": [],
   "source": [
    "ytest_predict = pd.DataFrame(ytest_predict,columns=['Predicted_labels'])\n",
    "ytest_predict['True_Labels'] = test_labels.values"
   ]
  },
  {
   "cell_type": "code",
   "execution_count": 61,
   "metadata": {},
   "outputs": [],
   "source": [
    "ytest_predict.to_excel('test_prdicted.xlsx',index=None)"
   ]
  },
  {
   "cell_type": "code",
   "execution_count": 63,
   "metadata": {},
   "outputs": [
    {
     "name": "stdout",
     "output_type": "stream",
     "text": [
      "Optimization terminated successfully.\n",
      "         Current function value: 0.656413\n",
      "         Iterations 6\n",
      "                       5%       95%  Odds Ratio\n",
      "Concat           1.000000  1.000000    1.000000\n",
      "Material         1.000000  1.000000    1.000000\n",
      "    Qty in UnE   0.999691  0.999792    0.999742\n",
      "   Amount in LC  1.000000  1.000003    1.000001\n",
      "SLoc             1.013466  1.019447    1.016452\n",
      "Plnt             1.001619  1.002870    1.002244\n",
      "City             1.061721  1.070430    1.066067\n",
      "Account Group    1.107832  1.131692    1.119699\n",
      "Location         0.308950  0.784767    0.492396\n"
     ]
    }
   ],
   "source": [
    "import statsmodels.api as sm\n",
    "\n",
    "res = sm.Logit(labels, train_data).fit()\n",
    "\n",
    "#odds ratio for training data using logistic regression\n",
    "params = res.params\n",
    "conf = res.conf_int()\n",
    "conf['Odds Ratio'] = params\n",
    "conf.columns = ['5%', '95%', 'Odds Ratio']\n",
    "print(np.exp(conf))"
   ]
  },
  {
   "cell_type": "code",
   "execution_count": null,
   "metadata": {},
   "outputs": [],
   "source": []
  }
 ],
 "metadata": {
  "kernelspec": {
   "display_name": "Python 3",
   "language": "python",
   "name": "python3"
  },
  "language_info": {
   "codemirror_mode": {
    "name": "ipython",
    "version": 3
   },
   "file_extension": ".py",
   "mimetype": "text/x-python",
   "name": "python",
   "nbconvert_exporter": "python",
   "pygments_lexer": "ipython3",
   "version": "3.7.3"
  }
 },
 "nbformat": 4,
 "nbformat_minor": 2
}
